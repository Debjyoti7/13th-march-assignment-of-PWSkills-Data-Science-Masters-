{
 "cells": [
  {
   "cell_type": "markdown",
   "id": "6f9f9916-4dd8-45f9-a44e-e8f7ae00746a",
   "metadata": {},
   "source": [
    "# Q1. Explain the assumptions required to use ANOVA and provide examples of violations that could impact the validity of the results."
   ]
  },
  {
   "cell_type": "markdown",
   "id": "378b4dab-2b22-4b27-8bb4-19999f02a25c",
   "metadata": {},
   "source": [
    "## ANOVA (Analysis of Variance) is a statistical method used to compare the means of three or more groups to determine if there are significant differences between them. To use ANOVA, several assumptions need to be met, and violations of these assumptions could impact the validity of the results.\n",
    "\n",
    "## The assumptions required for ANOVA are as follows:\n",
    "\n",
    "## 1. Normality: The data within each group should follow a normal distribution. Violation of this assumption occurs when the data are skewed or not normally distributed. For example, if the data within one or more groups is heavily skewed, the ANOVA results may be unreliable.\n",
    "\n",
    "## 2. Homogeneity of variance: The variance within each group should be approximately equal. Violation of this assumption occurs when the variance in one or more groups is much larger or smaller than the variance in the other groups. For example, if the variance in one group is much larger than the variance in the other groups, the ANOVA results may be unreliable.\n",
    "\n",
    "## 3. Independence: The observations within each group should be independent of one another. Violation of this assumption occurs when the observations within one group are related to or dependent on the observations in another group. For example, if the same individuals are used in multiple groups, the ANOVA results may be unreliable.\n",
    "\n",
    "## Examples of violations that could impact the validity of the ANOVA results include:\n",
    "\n",
    "## 1. Outliers: Extreme values or outliers within one or more groups can skew the distribution and violate the normality assumption.\n",
    "\n",
    "## 2. Heteroscedasticity: Unequal variances within one or more groups can violate the homogeneity of variance assumption.\n",
    "\n",
    "## 3. Correlated observations: Repeated measures or matched pairs within one or more groups can violate the independence assumption.\n",
    "\n",
    "## 4. Non-normality: If the data within one or more groups are not normally distributed, it can violate the normality assumption and lead to unreliable ANOVA results.\n",
    "\n",
    "## It's important to note that violations of these assumptions can impact the validity of the ANOVA results and affect the interpretation of the findings. Therefore, it's crucial to check for these assumptions before conducting ANOVA and, if violated, consider alternative methods for analyzing the data."
   ]
  },
  {
   "cell_type": "markdown",
   "id": "5c8493c0-fb4d-4ad7-bf76-6991366aa2c5",
   "metadata": {},
   "source": [
    "# Q2. What are the three types of ANOVA, and in what situations would each be used?"
   ]
  },
  {
   "cell_type": "markdown",
   "id": "996aa431-f1f7-40e7-8193-068ae49ddca5",
   "metadata": {},
   "source": [
    "## There are three types of ANOVA, which are as follows:\n",
    "\n",
    "## 1. One-Way ANOVA: This type of ANOVA is used when there is one independent variable with three or more levels or groups, and the researcher wants to test whether there are significant differences in the mean scores of the dependent variable across the groups. One-way ANOVA is typically used in situations where a single treatment or factor is being investigated.\n",
    "\n",
    "## 2. Two-Way ANOVA: This type of ANOVA is used when there are two independent variables, or factors, that are being investigated, and the researcher wants to test the main effects of each factor and their interaction effect on the dependent variable. Two-way ANOVA is typically used in situations where there are multiple treatments or factors being investigated.\n",
    "\n",
    "## 3. Repeated Measures ANOVA: This type of ANOVA is used when the same participants are measured on the dependent variable at multiple time points or under multiple conditions. Repeated measures ANOVA is used to test whether there are significant differences in the mean scores of the dependent variable across the time points or conditions.\n",
    "\n",
    "## In summary, One-Way ANOVA is used when there is one independent variable with three or more levels or groups, Two-Way ANOVA is used when there are two independent variables, and Repeated Measures ANOVA is used when the same participants are measured at multiple time points or under multiple conditions."
   ]
  },
  {
   "cell_type": "markdown",
   "id": "a8fcc33c-ea0c-4681-aa24-c6985959d9a9",
   "metadata": {},
   "source": [
    "# Q3. What is the partitioning of variance in ANOVA, and why is it important to understand this concept?"
   ]
  },
  {
   "cell_type": "markdown",
   "id": "aa4abbbb-f193-4b98-81cb-125ed234973a",
   "metadata": {},
   "source": [
    "## The partitioning of variance in ANOVA refers to the process of breaking down the total variance in the dependent variable into different sources of variation that can be attributed to the independent variables and their interaction. Specifically, the variance is partitioned into two components: the variance between groups and the variance within groups.\n",
    "\n",
    "## The variance between groups represents the amount of variability in the dependent variable that can be attributed to the differences between the groups or levels of the independent variable. The variance within groups represents the amount of variability in the dependent variable that is due to random error or other sources of variation that cannot be attributed to the independent variable.\n",
    "\n",
    "## Partitioning of variance is important in ANOVA because it allows researchers to determine whether the differences between the groups are statistically significant and not simply due to chance. By comparing the amount of variance between groups to the amount of variance within groups, ANOVA can determine whether the differences between the groups are larger than what would be expected by chance. This is done by calculating an F statistic, which compares the ratio of the variance between groups to the variance within groups.\n",
    "\n",
    "## Understanding the partitioning of variance in ANOVA is important because it allows researchers to identify the sources of variation in the dependent variable and determine which independent variables are contributing to these differences. This information can be used to make informed decisions about the variables that are most important in explaining the differences in the dependent variable and to identify potential areas for further research or intervention. Additionally, understanding the partitioning of variance is important for interpreting and reporting the results of ANOVA accurately and effectively."
   ]
  },
  {
   "cell_type": "markdown",
   "id": "9b817a3a-4949-42a9-9d0f-9427ad2860d4",
   "metadata": {},
   "source": [
    "# Q4. How would you calculate the total sum of squares (SST), explained sum of squares (SSE), and residual sum of squares (SSR) in a one-way ANOVA using Python?"
   ]
  },
  {
   "cell_type": "code",
   "execution_count": null,
   "id": "556a4f52-73e7-4f42-abd6-066ab69ab681",
   "metadata": {},
   "outputs": [],
   "source": [
    "import pandas as pd\n",
    "import statsmodels.api as sm\n",
    "from statsmodels.formula.api import ols\n",
    "\n",
    "# Load data\n",
    "data = pd.read_csv('data.csv')\n",
    "\n",
    "# Define the model\n",
    "model = ols('dependent_variable ~ independent_variable', data=data).fit()\n",
    "\n",
    "# Calculate SST\n",
    "ss_total = sm.stats.anova_lm(model, typ=1)['sum_sq'][0]\n",
    "\n",
    "# Calculate SSE\n",
    "ss_explained = sm.stats.anova_lm(model, typ=1)['sum_sq'][1]\n",
    "\n",
    "# Calculate SSR\n",
    "ss_residual = sm.stats.anova_lm(model, typ=1)['sum_sq'][2]\n"
   ]
  },
  {
   "cell_type": "markdown",
   "id": "89697df3-616e-47e7-986e-5a5c83cf5d8c",
   "metadata": {},
   "source": [
    "## In this example code, we first load the data into a pandas dataframe. Then we define the model using the ols function and fit it to the data. We then use the anova_lm function from statsmodels to calculate the sum of squares for each source of variation, including the total sum of squares (SST), explained sum of squares (SSE), and residual sum of squares (SSR). The typ=1 argument specifies that we want to use Type I sum of squares for the ANOVA, which is the default method."
   ]
  },
  {
   "cell_type": "markdown",
   "id": "052ecfaa-fd78-40f6-8036-d43a0991f9ef",
   "metadata": {},
   "source": [
    "# Q5. In a two-way ANOVA, how would you calculate the main effects and interaction effects using Python?"
   ]
  },
  {
   "cell_type": "code",
   "execution_count": null,
   "id": "6d1dbefd-0b65-4b7d-b4b6-db2f2d6235a8",
   "metadata": {},
   "outputs": [],
   "source": [
    "import pandas as pd\n",
    "import statsmodels.api as sm\n",
    "from statsmodels.formula.api import ols\n",
    "\n",
    "# Load data\n",
    "data = pd.read_csv('data.csv')\n",
    "\n",
    "# Define the model\n",
    "model = ols('dependent_variable ~ independent_variable_1 + independent_variable_2 + independent_variable_1 * independent_variable_2', data=data).fit()\n",
    "\n",
    "# Calculate main effects\n",
    "main_effects = sm.stats.anova_lm(model, typ=2)['sum_sq'][:2]\n",
    "\n",
    "# Calculate interaction effect\n",
    "interaction_effect = sm.stats.anova_lm(model, typ=2)['sum_sq'][2]"
   ]
  },
  {
   "cell_type": "markdown",
   "id": "079a752f-10eb-48c2-b019-b9d570f7ec89",
   "metadata": {},
   "source": [
    "## In this example code, we first load the data into a pandas dataframe. Then we define the model using the ols function and fit it to the data. We include both independent variables and their interaction term in the model. We then use the anova_lm function from statsmodels to calculate the sum of squares for each source of variation, including the main effects and interaction effect. The typ=2 argument specifies that we want to use Type II sum of squares for the ANOVA.\n",
    "\n",
    "## Note that in this example, the dependent variable is represented by the column named dependent_variable in the data, and the independent variables are represented by the columns named independent_variable_1 and independent_variable_2. You should replace these with the appropriate names for your data. Also, make sure to import the pandas and statsmodels libraries before running this code.\n"
   ]
  },
  {
   "cell_type": "markdown",
   "id": "7c2b9066-66c8-4160-bc20-fc6bc762be42",
   "metadata": {},
   "source": [
    "# Q6. Suppose you conducted a one-way ANOVA and obtained an F-statistic of 5.23 and a p-value of 0.02. What can you conclude about the differences between the groups, and how would you interpret these results?"
   ]
  },
  {
   "cell_type": "markdown",
   "id": "731120af-692f-4d3b-baed-42d659767314",
   "metadata": {},
   "source": [
    "## If we conducted a one-way ANOVA and obtained an F-statistic of 5.23 and a p-value of 0.02, we can conclude that there is a significant difference between the groups. The null hypothesis for the ANOVA is that all the group means are equal. A small p-value (less than the chosen alpha level) indicates that we reject the null hypothesis and conclude that there is enough evidence to suggest that at least one group mean is different from the others.\n",
    "\n",
    "## The F-statistic is the ratio of the between-group variability to the within-group variability. In other words, it measures the extent to which the group means differ from each other relative to the variability within each group. A larger F-statistic indicates that there is more variation between the group means than within each group.\n",
    "\n",
    "## In this case, the F-statistic of 5.23 indicates that the between-group variability is greater than the within-group variability. The p-value of 0.02 suggests that the probability of observing such a large F-statistic by chance is only 2%. Therefore, we can conclude that there is a significant difference between the groups.\n",
    "\n",
    "## To interpret these results, we would need to look at the means of each group and conduct post-hoc tests to determine which groups are different from each other. Additionally, we would need to consider the assumptions of ANOVA and assess whether they have been met in our analysis."
   ]
  },
  {
   "cell_type": "markdown",
   "id": "a77bcd7d-fc92-420c-8743-723092adea6c",
   "metadata": {},
   "source": [
    "# Q7. In a repeated measures ANOVA, how would you handle missing data, and what are the potential consequences of using different methods to handle missing data?"
   ]
  },
  {
   "cell_type": "markdown",
   "id": "c34a0997-6f40-4c96-828c-cbdc4be243a7",
   "metadata": {},
   "source": [
    "## In a repeated measures ANOVA, missing data can be handled in different ways depending on the extent and pattern of missingness. Here are some common methods:\n",
    "\n",
    "## 1. Complete Case Analysis (CCA): This is the simplest method and involves only using the observations that have complete data. This means that any participant with missing data for any variable will be excluded from the analysis. This method can lead to biased results if the missing data are not missing completely at random (MCAR).\n",
    "\n",
    "## 2. Mean Substitution: This method involves replacing missing data with the mean value of that variable for all other participants. This method assumes that the missing data are missing at random (MAR). However, this method can lead to biased results if the missing data are not MAR.\n",
    "\n",
    "## 3. Last Observation Carried Forward (LOCF): This method involves using the last observed value for a participant to replace any missing values. This method assumes that the missing data are missing completely at random (MCAR) and that the missing data are stable over time. This method can lead to biased results if the missing data are not MCAR or if the missing data change over time.\n",
    "\n",
    "## 4. Multiple Imputation (MI): This method involves imputing the missing data with estimated values based on the observed data and the correlations between variables. This method is considered the gold standard for handling missing data because it accounts for the uncertainty in the imputed values. However, this method requires more computational resources and can be more complex to implement.\n",
    "\n",
    "## The potential consequences of using different methods to handle missing data include biased estimates of means and standard errors, reduced power to detect true effects, and increased Type I and Type II errors. Therefore, it is important to carefully consider the extent and pattern of missingness, as well as the assumptions of each method, before choosing a method to handle missing data in a repeated measures ANOVA."
   ]
  },
  {
   "cell_type": "markdown",
   "id": "405e66d3-5b5c-4463-b6fb-682f8d87c6fb",
   "metadata": {},
   "source": [
    "# Q8. What are some common post-hoc tests used after ANOVA, and when would you use each one? Provide an example of a situation where a post-hoc test might be necessary."
   ]
  },
  {
   "cell_type": "markdown",
   "id": "cfafa4e4-5daf-45f5-b9c4-267a53eb9512",
   "metadata": {},
   "source": [
    "## Post-hoc tests are used after an ANOVA to determine which groups are significantly different from each other. Here are some common post-hoc tests and when they might be used:\n",
    "\n",
    "## Tukey's Honestly Significant Difference (HSD): This test compares all possible pairs of group means and controls the familywise error rate. This test is often used when there are more than two groups.\n",
    "\n",
    "## Bonferroni correction: This test is a more conservative approach that controls the familywise error rate by adjusting the significance level for each individual comparison. This test is often used when there are a small number of comparisons.\n",
    "\n",
    "## Scheffe's test: This test is a more conservative approach that controls the familywise error rate by adjusting the significance level based on the number of groups being compared. This test is often used when there are unequal sample sizes or unequal variances.\n",
    "\n",
    "## Dunn's test: This test is a nonparametric approach that compares all possible pairs of group means using rank-based methods. This test is often used when the data do not meet the assumptions of ANOVA.\n",
    "\n",
    "## A post-hoc test might be necessary when the ANOVA indicates a significant difference between the groups, but we need to determine which specific groups are different from each other. For example, if we conducted a one-way ANOVA to compare the mean scores of four different study groups and obtained a significant F-statistic, we would need to conduct a post-hoc test to determine which groups are significantly different from each other. We might use Tukey's HSD test to conduct pairwise comparisons between the groups and identify which specific groups have significantly different mean scores."
   ]
  },
  {
   "cell_type": "markdown",
   "id": "c652b426-ab05-494e-aa1b-0aaad8f86f96",
   "metadata": {},
   "source": [
    "# Q9. A researcher wants to compare the mean weight loss of three diets: A, B, and C. They collect data from 50 participants who were randomly assigned to one of the diets. Conduct a one-way ANOVA using Python to determine if there are any significant differences between the mean weight loss of the three diets. Report the F-statistic and p-value, and interpret the results."
   ]
  },
  {
   "cell_type": "code",
   "execution_count": null,
   "id": "403fbb3b-9d52-4385-999f-85c9123ba995",
   "metadata": {},
   "outputs": [],
   "source": [
    "import pandas as pd\n",
    "from scipy.stats import f_oneway\n",
    "\n",
    "# Read in the data\n",
    "data = pd.read_csv('diet_weight_loss.csv')\n",
    "# Perform the one-way ANOVA\n",
    "f_statistic, p_value = f_oneway(data['A'], data['B'], data['C'])\n",
    "\n",
    "# Print the results\n",
    "print('F-statistic:', f_statistic)\n",
    "print('p-value:', p_value)\n"
   ]
  },
  {
   "cell_type": "markdown",
   "id": "e78a0cfa-567e-4fed-9b2c-bf2de66b5bc7",
   "metadata": {},
   "source": [
    "# Q10. A company wants to know if there are any significant differences in the average time it takes to complete a task using three different software programs: Program A, Program B, and Program C. They randomly assign 30 employees to one of the programs and record the time it takes each employee to complete the task. Conduct a two-way ANOVA using Python to determine if there are any main effects or interaction effects between the software programs and employee experience level (novice vs. experienced). Report the F-statistics and p-values, and interpret the results."
   ]
  },
  {
   "cell_type": "code",
   "execution_count": null,
   "id": "4a0aefc9-a15c-4e02-a5ad-3236375d1e8f",
   "metadata": {},
   "outputs": [],
   "source": [
    "import pandas as pd\n",
    "import statsmodels.api as sm\n",
    "from statsmodels.formula.api import ols\n",
    "\n",
    "# Read in the data\n",
    "data = pd.read_csv('task_completion_times.csv')\n",
    "# Specify the ANOVA model\n",
    "model = ols('time ~ C(program) + C(experience_level) + C(program):C(experience_level)', data=data).fit()\n",
    "\n",
    "# Print the ANOVA table\n",
    "print(sm.stats.anova_lm(model, typ=2))\n"
   ]
  },
  {
   "cell_type": "markdown",
   "id": "34f854aa-4215-4631-9c57-d2dd4ac8b4a2",
   "metadata": {},
   "source": [
    "# Q11. An educational researcher is interested in whether a new teaching method improves student test scores. They randomly assign 100 students to either the control group (traditional teaching method) or the experimental group (new teaching method) and administer a test at the end of the semester. Conduct a two-sample t-test using Python to determine if there are any significant differences in test scores between the two groups. If the results are significant, follow up with a post-hoc test to determine which group(s) differ significantly from each other."
   ]
  },
  {
   "cell_type": "code",
   "execution_count": null,
   "id": "5c3310c5-0453-43f1-865b-46398375cb97",
   "metadata": {},
   "outputs": [],
   "source": [
    "import pandas as pd\n",
    "from scipy.stats import ttest_ind, f_oneway, tukeyhsd\n",
    "\n",
    "# Read in the data\n",
    "data = pd.read_csv('teaching_method_scores.csv')\n",
    "# Perform the two-sample t-test\n",
    "control_scores = data[data['group'] == 'control']['score']\n",
    "experimental_scores = data[data['group'] == 'experimental']['score']\n",
    "t_statistic, p_value = ttest_ind(control_scores, experimental_scores)\n",
    "\n",
    "# Print the results\n",
    "print('t-statistic:', t_statistic)\n",
    "print('p-value:', p_value)\n"
   ]
  },
  {
   "cell_type": "markdown",
   "id": "b2580259-bb71-4d69-87c9-fa88f4eacbd7",
   "metadata": {},
   "source": [
    "# Q12. A researcher wants to know if there are any significant differences in the average daily sales of three retail stores: Store A, Store B, and Store C. They randomly select 30 days and record the sales for each store on those days. Conduct a repeated measures ANOVA using Python to determine if there are any significant differences in sales between the three stores. If the results are significant, follow up with a post- hoc test to determine which store(s) differ significantly from each other."
   ]
  },
  {
   "cell_type": "code",
   "execution_count": null,
   "id": "c65d5bda-90c5-49d5-ae2c-a31a00bfc739",
   "metadata": {},
   "outputs": [],
   "source": [
    "import pandas as pd\n",
    "import statsmodels.api as sm\n",
    "from statsmodels.formula.api import ols\n",
    "from scipy.stats import f_oneway, tukeyhsd\n",
    "\n",
    "# Read in the data\n",
    "data = pd.read_csv('daily_sales.csv')\n",
    "# Specify the repeated measures ANOVA model\n",
    "model = ols('sales ~ C(store) + day + C(store):day', data=data).fit()\n",
    "\n",
    "# Print the ANOVA table\n",
    "table = sm.stats.anova_lm(model, typ=2)\n",
    "print(table)\n"
   ]
  }
 ],
 "metadata": {
  "kernelspec": {
   "display_name": "Python 3 (ipykernel)",
   "language": "python",
   "name": "python3"
  },
  "language_info": {
   "codemirror_mode": {
    "name": "ipython",
    "version": 3
   },
   "file_extension": ".py",
   "mimetype": "text/x-python",
   "name": "python",
   "nbconvert_exporter": "python",
   "pygments_lexer": "ipython3",
   "version": "3.10.8"
  }
 },
 "nbformat": 4,
 "nbformat_minor": 5
}
